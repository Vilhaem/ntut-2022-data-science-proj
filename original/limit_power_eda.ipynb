{
 "cells": [
  {
   "cell_type": "code",
   "execution_count": 19,
   "id": "be4b034a-0988-48dc-81b5-9554aeeb95aa",
   "metadata": {},
   "outputs": [],
   "source": [
    "import pandas as pd \n",
    "from matplotlib import pyplot as plt\n",
    "\n",
    "df = pd.read_csv('歷年限電次數(79-110).csv', index_col=\"年度\")\n",
    "df.head()\n",
    "df = df.dropna()"
   ]
  },
  {
   "cell_type": "code",
   "execution_count": 27,
   "id": "aced927c-7f41-4fe6-ac3d-41e1dccd9779",
   "metadata": {},
   "outputs": [
    {
     "name": "stdout",
     "output_type": "stream",
     "text": [
      "Index([' 限電次數', '原因說明'], dtype='object')\n"
     ]
    },
    {
     "data": {
      "image/png": "[encoded data removed]",
      "text/plain": [
       "<Figure size 720x576 with 1 Axes>"
      ]
     },
     "metadata": {
      "needs_background": "light"
     },
     "output_type": "display_data"
    }
   ],
   "source": [
    "plt.rcParams['font.sans-serif'] = ['Microsoft YaHei']\n",
    "df.plot(kind= 'bar', figsize=(10,8))\n",
    "print(df.columns)"
   ]
  },
  {
   "cell_type": "code",
   "execution_count": 26,
   "id": "dca158d1-2ba2-484f-9e72-f644e2906a10",
   "metadata": {},
   "outputs": [
    {
     "data": {
      "text/html": [
       "<div>\n",
       "<style scoped>\n",
       "    .dataframe tbody tr th:only-of-type {\n",
       "        vertical-align: middle;\n",
       "    }\n",
       "\n",
       "    .dataframe tbody tr th {\n",
       "        vertical-align: top;\n",
       "    }\n",
       "\n",
       "    .dataframe thead th {\n",
       "        text-align: right;\n",
       "    }\n",
       "</style>\n",
       "<table border=\"1\" class=\"dataframe\">\n",
       "  <thead>\n",
       "    <tr style=\"text-align: right;\">\n",
       "      <th></th>\n",
       "      <th>限電次數</th>\n",
       "      <th>原因說明</th>\n",
       "    </tr>\n",
       "    <tr>\n",
       "      <th>年度</th>\n",
       "      <th></th>\n",
       "      <th></th>\n",
       "    </tr>\n",
       "  </thead>\n",
       "  <tbody>\n",
       "    <tr>\n",
       "      <th>79</th>\n",
       "      <td>3.0</td>\n",
       "      <td>備用容量率偏低</td>\n",
       "    </tr>\n",
       "    <tr>\n",
       "      <th>80</th>\n",
       "      <td>14.0</td>\n",
       "      <td>備用容量率偏低</td>\n",
       "    </tr>\n",
       "    <tr>\n",
       "      <th>81</th>\n",
       "      <td>2.0</td>\n",
       "      <td>備用容量率偏低</td>\n",
       "    </tr>\n",
       "    <tr>\n",
       "      <th>82</th>\n",
       "      <td>4.0</td>\n",
       "      <td>備用容量率偏低</td>\n",
       "    </tr>\n",
       "    <tr>\n",
       "      <th>83</th>\n",
       "      <td>16.0</td>\n",
       "      <td>備用容量率偏低</td>\n",
       "    </tr>\n",
       "    <tr>\n",
       "      <th>84</th>\n",
       "      <td>3.0</td>\n",
       "      <td>備用容量率偏低</td>\n",
       "    </tr>\n",
       "    <tr>\n",
       "      <th>85</th>\n",
       "      <td>1.0</td>\n",
       "      <td>備用容量率偏低</td>\n",
       "    </tr>\n",
       "    <tr>\n",
       "      <th>88</th>\n",
       "      <td>3.0</td>\n",
       "      <td>729鐵塔因連日豪雨倒塌致南北系統分裂，龍崎以北供電能力嚴重不足。</td>\n",
       "    </tr>\n",
       "    <tr>\n",
       "      <th>91</th>\n",
       "      <td>1.0</td>\n",
       "      <td>中油天然氣船期協調問題，導致液化天然氣安全存量不足。</td>\n",
       "    </tr>\n",
       "    <tr>\n",
       "      <th>106</th>\n",
       "      <td>1.0</td>\n",
       "      <td>815中油天然氣供氣中斷，導致北部大潭電廠機組全數跳脫。</td>\n",
       "    </tr>\n",
       "    <tr>\n",
       "      <th>110</th>\n",
       "      <td>2.0</td>\n",
       "      <td>513興達電廠4部機及通霄電廠1部機跳脫；517興達電廠1部機跳脫。</td>\n",
       "    </tr>\n",
       "  </tbody>\n",
       "</table>\n",
       "</div>"
      ],
      "text/plain": [
       "      限電次數                                原因說明\n",
       "年度                                            \n",
       "79     3.0                             備用容量率偏低\n",
       "80    14.0                             備用容量率偏低\n",
       "81     2.0                             備用容量率偏低\n",
       "82     4.0                             備用容量率偏低\n",
       "83    16.0                             備用容量率偏低\n",
       "84     3.0                             備用容量率偏低\n",
       "85     1.0                             備用容量率偏低\n",
       "88     3.0   729鐵塔因連日豪雨倒塌致南北系統分裂，龍崎以北供電能力嚴重不足。\n",
       "91     1.0          中油天然氣船期協調問題，導致液化天然氣安全存量不足。\n",
       "106    1.0        815中油天然氣供氣中斷，導致北部大潭電廠機組全數跳脫。\n",
       "110    2.0  513興達電廠4部機及通霄電廠1部機跳脫；517興達電廠1部機跳脫。"
      ]
     },
     "execution_count": 26,
     "metadata": {},
     "output_type": "execute_result"
    }
   ],
   "source": [
    "df\n"
   ]
  }
 ],
 "metadata": {
  "kernelspec": {
   "display_name": "Python 3 (ipykernel)",
   "language": "python",
   "name": "python3"
  },
  "language_info": {
   "codemirror_mode": {
    "name": "ipython",
    "version": 3
   },
   "file_extension": ".py",
   "mimetype": "text/x-python",
   "name": "python",
   "nbconvert_exporter": "python",
   "pygments_lexer": "ipython3",
   "version": "3.7.12"
  }
 },
 "nbformat": 4,
 "nbformat_minor": 5
}
