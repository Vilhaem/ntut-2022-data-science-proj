{
 "cells": [
  {
   "cell_type": "code",
   "execution_count": 1,
   "id": "9e377e2b",
   "metadata": {},
   "outputs": [
    {
     "data": {
      "text/html": [
       "<div>\n",
       "<style scoped>\n",
       "    .dataframe tbody tr th:only-of-type {\n",
       "        vertical-align: middle;\n",
       "    }\n",
       "\n",
       "    .dataframe tbody tr th {\n",
       "        vertical-align: top;\n",
       "    }\n",
       "\n",
       "    .dataframe thead th {\n",
       "        text-align: right;\n",
       "    }\n",
       "</style>\n",
       "<table border=\"1\" class=\"dataframe\">\n",
       "  <thead>\n",
       "    <tr style=\"text-align: right;\">\n",
       "      <th></th>\n",
       "      <th>year</th>\n",
       "      <th>county</th>\n",
       "      <th>residential</th>\n",
       "      <th>service industry</th>\n",
       "      <th>public department</th>\n",
       "      <th>industry</th>\n",
       "      <th>other</th>\n",
       "    </tr>\n",
       "  </thead>\n",
       "  <tbody>\n",
       "    <tr>\n",
       "      <th>0</th>\n",
       "      <td>2021</td>\n",
       "      <td>新北市</td>\n",
       "      <td>41.88</td>\n",
       "      <td>26.38</td>\n",
       "      <td>2.85</td>\n",
       "      <td>28.77</td>\n",
       "      <td>0.12</td>\n",
       "    </tr>\n",
       "    <tr>\n",
       "      <th>1</th>\n",
       "      <td>2021</td>\n",
       "      <td>台北市</td>\n",
       "      <td>35.09</td>\n",
       "      <td>52.79</td>\n",
       "      <td>8.25</td>\n",
       "      <td>3.79</td>\n",
       "      <td>0.08</td>\n",
       "    </tr>\n",
       "    <tr>\n",
       "      <th>2</th>\n",
       "      <td>2021</td>\n",
       "      <td>桃園市</td>\n",
       "      <td>17.54</td>\n",
       "      <td>13.77</td>\n",
       "      <td>1.64</td>\n",
       "      <td>66.87</td>\n",
       "      <td>0.18</td>\n",
       "    </tr>\n",
       "    <tr>\n",
       "      <th>3</th>\n",
       "      <td>2021</td>\n",
       "      <td>台中市</td>\n",
       "      <td>18.70</td>\n",
       "      <td>15.44</td>\n",
       "      <td>1.94</td>\n",
       "      <td>63.44</td>\n",
       "      <td>0.48</td>\n",
       "    </tr>\n",
       "    <tr>\n",
       "      <th>4</th>\n",
       "      <td>2021</td>\n",
       "      <td>台南市</td>\n",
       "      <td>13.69</td>\n",
       "      <td>9.14</td>\n",
       "      <td>1.51</td>\n",
       "      <td>74.29</td>\n",
       "      <td>1.37</td>\n",
       "    </tr>\n",
       "  </tbody>\n",
       "</table>\n",
       "</div>"
      ],
      "text/plain": [
       "   year county  residential  service industry  public department  industry  \\\n",
       "0  2021    新北市        41.88             26.38               2.85     28.77   \n",
       "1  2021    台北市        35.09             52.79               8.25      3.79   \n",
       "2  2021    桃園市        17.54             13.77               1.64     66.87   \n",
       "3  2021    台中市        18.70             15.44               1.94     63.44   \n",
       "4  2021    台南市        13.69              9.14               1.51     74.29   \n",
       "\n",
       "   other  \n",
       "0   0.12  \n",
       "1   0.08  \n",
       "2   0.18  \n",
       "3   0.48  \n",
       "4   1.37  "
      ]
     },
     "execution_count": 1,
     "metadata": {},
     "output_type": "execute_result"
    }
   ],
   "source": [
    "import pandas as pd\n",
    "from matplotlib import pyplot as plt\n",
    "plt.rcParams['font.sans-serif'] = ['Microsoft YaHei']\n",
    "\n",
    "df = pd.read_csv('power_ratio.csv')\n",
    "df.head()"
   ]
  },
  {
   "cell_type": "code",
   "execution_count": 2,
   "id": "4911b5fc",
   "metadata": {},
   "outputs": [
    {
     "data": {
      "text/plain": [
       "2021    22\n",
       "2020    22\n",
       "2019    22\n",
       "2018    22\n",
       "Name: year, dtype: int64"
      ]
     },
     "execution_count": 2,
     "metadata": {},
     "output_type": "execute_result"
    }
   ],
   "source": [
    "df['year'].value_counts()"
   ]
  },
  {
   "cell_type": "code",
   "execution_count": 3,
   "id": "d189f5b5",
   "metadata": {},
   "outputs": [
    {
     "data": {
      "text/plain": [
       "Index(['year', 'county', 'residential', 'service industry',\n",
       "       'public department', 'industry', 'other'],\n",
       "      dtype='object')"
      ]
     },
     "execution_count": 3,
     "metadata": {},
     "output_type": "execute_result"
    }
   ],
   "source": [
    "df.columns"
   ]
  },
  {
   "cell_type": "code",
   "execution_count": 4,
   "id": "5372358f",
   "metadata": {},
   "outputs": [
    {
     "data": {
      "text/html": [
       "<div>\n",
       "<style scoped>\n",
       "    .dataframe tbody tr th:only-of-type {\n",
       "        vertical-align: middle;\n",
       "    }\n",
       "\n",
       "    .dataframe tbody tr th {\n",
       "        vertical-align: top;\n",
       "    }\n",
       "\n",
       "    .dataframe thead th {\n",
       "        text-align: right;\n",
       "    }\n",
       "</style>\n",
       "<table border=\"1\" class=\"dataframe\">\n",
       "  <thead>\n",
       "    <tr style=\"text-align: right;\">\n",
       "      <th></th>\n",
       "      <th>residential</th>\n",
       "      <th>service industry</th>\n",
       "      <th>public department</th>\n",
       "      <th>industry</th>\n",
       "      <th>other</th>\n",
       "    </tr>\n",
       "  </thead>\n",
       "  <tbody>\n",
       "    <tr>\n",
       "      <th>sum</th>\n",
       "      <td>28.97</td>\n",
       "      <td>23.146818</td>\n",
       "      <td>4.708182</td>\n",
       "      <td>40.797727</td>\n",
       "      <td>2.377273</td>\n",
       "    </tr>\n",
       "  </tbody>\n",
       "</table>\n",
       "</div>"
      ],
      "text/plain": [
       "     residential  service industry  public department   industry     other\n",
       "sum        28.97         23.146818           4.708182  40.797727  2.377273"
      ]
     },
     "execution_count": 4,
     "metadata": {},
     "output_type": "execute_result"
    }
   ],
   "source": [
    "county_num = df['county'].nunique()\n",
    "year_df = df.groupby('year')\n",
    "ratio_2021 = year_df.get_group(2021)\n",
    "ratio_2021[['residential', 'service industry', 'public department', 'industry', 'other']].agg(['sum']) / county_num"
   ]
  },
  {
   "cell_type": "code",
   "execution_count": 5,
   "id": "7ac123f4",
   "metadata": {},
   "outputs": [
    {
     "data": {
      "text/plain": [
       "<matplotlib.axes._subplots.AxesSubplot at 0x1d3e939e408>"
      ]
     },
     "execution_count": 5,
     "metadata": {},
     "output_type": "execute_result"
    },
    {
     "data": {
      "image/png": "[encoded data removed]",
      "text/plain": [
       "<Figure size 1080x720 with 1 Axes>"
      ]
     },
     "metadata": {
      "needs_background": "light"
     },
     "output_type": "display_data"
    }
   ],
   "source": [
    "year_df = df.groupby('year')\n",
    "years = year_df.groups.keys()\n",
    "\n",
    "result_df = pd.DataFrame()\n",
    "\n",
    "for year in years:\n",
    "    ratio_df = year_df.get_group(year)\n",
    "    cur_df = ratio_df[['residential', 'service industry', 'public department', 'industry', 'other']].agg(['sum']) / (county_num*100) \n",
    "    cur_df = cur_df.reset_index(drop = True)\n",
    "    cur_df['year'] = year\n",
    "    result_df = pd.concat([result_df, cur_df])\n",
    "\n",
    "result_df['year'] = result_df['year'].astype(str)\n",
    "\n",
    "n_result_df = result_df.copy()\n",
    "n_result_df.rename(columns = {\n",
    "    'residential': '住宅', \n",
    "    'service industry': '服務業', \n",
    "    'public department': '機關用電(政府+包燈+大專院校)', \n",
    "    'industry': '工業', \n",
    "    'other': '其他'\n",
    "}, inplace=True)\n",
    "n_result_df.plot(x='year',  figsize=(15,10), kind='bar', stacked=True)"
   ]
  },
  {
   "cell_type": "code",
   "execution_count": 6,
   "id": "c114951e",
   "metadata": {},
   "outputs": [
    {
     "data": {
      "text/html": [
       "<div>\n",
       "<style scoped>\n",
       "    .dataframe tbody tr th:only-of-type {\n",
       "        vertical-align: middle;\n",
       "    }\n",
       "\n",
       "    .dataframe tbody tr th {\n",
       "        vertical-align: top;\n",
       "    }\n",
       "\n",
       "    .dataframe thead th {\n",
       "        text-align: right;\n",
       "    }\n",
       "</style>\n",
       "<table border=\"1\" class=\"dataframe\">\n",
       "  <thead>\n",
       "    <tr style=\"text-align: right;\">\n",
       "      <th></th>\n",
       "      <th>residential</th>\n",
       "      <th>service industry</th>\n",
       "      <th>public department</th>\n",
       "      <th>industry</th>\n",
       "      <th>other</th>\n",
       "      <th>year</th>\n",
       "    </tr>\n",
       "  </thead>\n",
       "  <tbody>\n",
       "    <tr>\n",
       "      <th>0</th>\n",
       "      <td>0.274709</td>\n",
       "      <td>0.250455</td>\n",
       "      <td>0.052959</td>\n",
       "      <td>0.399318</td>\n",
       "      <td>0.022559</td>\n",
       "      <td>2018</td>\n",
       "    </tr>\n",
       "    <tr>\n",
       "      <th>0</th>\n",
       "      <td>0.275505</td>\n",
       "      <td>0.250564</td>\n",
       "      <td>0.051850</td>\n",
       "      <td>0.398745</td>\n",
       "      <td>0.023336</td>\n",
       "      <td>2019</td>\n",
       "    </tr>\n",
       "    <tr>\n",
       "      <th>0</th>\n",
       "      <td>0.283695</td>\n",
       "      <td>0.242445</td>\n",
       "      <td>0.050250</td>\n",
       "      <td>0.399291</td>\n",
       "      <td>0.024323</td>\n",
       "      <td>2020</td>\n",
       "    </tr>\n",
       "    <tr>\n",
       "      <th>0</th>\n",
       "      <td>0.289700</td>\n",
       "      <td>0.231468</td>\n",
       "      <td>0.047082</td>\n",
       "      <td>0.407977</td>\n",
       "      <td>0.023773</td>\n",
       "      <td>2021</td>\n",
       "    </tr>\n",
       "  </tbody>\n",
       "</table>\n",
       "</div>"
      ],
      "text/plain": [
       "   residential  service industry  public department  industry     other  year\n",
       "0     0.274709          0.250455           0.052959  0.399318  0.022559  2018\n",
       "0     0.275505          0.250564           0.051850  0.398745  0.023336  2019\n",
       "0     0.283695          0.242445           0.050250  0.399291  0.024323  2020\n",
       "0     0.289700          0.231468           0.047082  0.407977  0.023773  2021"
      ]
     },
     "execution_count": 6,
     "metadata": {},
     "output_type": "execute_result"
    }
   ],
   "source": [
    "result_df"
   ]
  },
  {
   "cell_type": "code",
   "execution_count": 7,
   "id": "792c23d7-e759-4f69-bbd8-9b9638a76829",
   "metadata": {},
   "outputs": [
    {
     "data": {
      "text/html": [
       "<div>\n",
       "<style scoped>\n",
       "    .dataframe tbody tr th:only-of-type {\n",
       "        vertical-align: middle;\n",
       "    }\n",
       "\n",
       "    .dataframe tbody tr th {\n",
       "        vertical-align: top;\n",
       "    }\n",
       "\n",
       "    .dataframe thead th {\n",
       "        text-align: right;\n",
       "    }\n",
       "</style>\n",
       "<table border=\"1\" class=\"dataframe\">\n",
       "  <thead>\n",
       "    <tr style=\"text-align: right;\">\n",
       "      <th></th>\n",
       "      <th>residential</th>\n",
       "      <th>service industry</th>\n",
       "      <th>public department</th>\n",
       "      <th>industry</th>\n",
       "      <th>other</th>\n",
       "    </tr>\n",
       "  </thead>\n",
       "  <tbody>\n",
       "    <tr>\n",
       "      <th>count</th>\n",
       "      <td>4.000000</td>\n",
       "      <td>4.000000</td>\n",
       "      <td>4.000000</td>\n",
       "      <td>4.000000</td>\n",
       "      <td>4.000000</td>\n",
       "    </tr>\n",
       "    <tr>\n",
       "      <th>mean</th>\n",
       "      <td>0.280902</td>\n",
       "      <td>0.243733</td>\n",
       "      <td>0.050535</td>\n",
       "      <td>0.401333</td>\n",
       "      <td>0.023498</td>\n",
       "    </tr>\n",
       "    <tr>\n",
       "      <th>std</th>\n",
       "      <td>0.007134</td>\n",
       "      <td>0.009017</td>\n",
       "      <td>0.002557</td>\n",
       "      <td>0.004437</td>\n",
       "      <td>0.000745</td>\n",
       "    </tr>\n",
       "    <tr>\n",
       "      <th>min</th>\n",
       "      <td>0.274709</td>\n",
       "      <td>0.231468</td>\n",
       "      <td>0.047082</td>\n",
       "      <td>0.398745</td>\n",
       "      <td>0.022559</td>\n",
       "    </tr>\n",
       "    <tr>\n",
       "      <th>25%</th>\n",
       "      <td>0.275306</td>\n",
       "      <td>0.239701</td>\n",
       "      <td>0.049458</td>\n",
       "      <td>0.399155</td>\n",
       "      <td>0.023142</td>\n",
       "    </tr>\n",
       "    <tr>\n",
       "      <th>50%</th>\n",
       "      <td>0.279600</td>\n",
       "      <td>0.246450</td>\n",
       "      <td>0.051050</td>\n",
       "      <td>0.399305</td>\n",
       "      <td>0.023555</td>\n",
       "    </tr>\n",
       "    <tr>\n",
       "      <th>75%</th>\n",
       "      <td>0.285197</td>\n",
       "      <td>0.250482</td>\n",
       "      <td>0.052127</td>\n",
       "      <td>0.401483</td>\n",
       "      <td>0.023910</td>\n",
       "    </tr>\n",
       "    <tr>\n",
       "      <th>max</th>\n",
       "      <td>0.289700</td>\n",
       "      <td>0.250564</td>\n",
       "      <td>0.052959</td>\n",
       "      <td>0.407977</td>\n",
       "      <td>0.024323</td>\n",
       "    </tr>\n",
       "  </tbody>\n",
       "</table>\n",
       "</div>"
      ],
      "text/plain": [
       "       residential  service industry  public department  industry     other\n",
       "count     4.000000          4.000000           4.000000  4.000000  4.000000\n",
       "mean      0.280902          0.243733           0.050535  0.401333  0.023498\n",
       "std       0.007134          0.009017           0.002557  0.004437  0.000745\n",
       "min       0.274709          0.231468           0.047082  0.398745  0.022559\n",
       "25%       0.275306          0.239701           0.049458  0.399155  0.023142\n",
       "50%       0.279600          0.246450           0.051050  0.399305  0.023555\n",
       "75%       0.285197          0.250482           0.052127  0.401483  0.023910\n",
       "max       0.289700          0.250564           0.052959  0.407977  0.024323"
      ]
     },
     "execution_count": 7,
     "metadata": {},
     "output_type": "execute_result"
    }
   ],
   "source": [
    "result_df[['residential', 'service industry', 'public department', 'industry', 'other']].describe()"
   ]
  }
 ],
 "metadata": {
  "kernelspec": {
   "display_name": "Python 3 (ipykernel)",
   "language": "python",
   "name": "python3"
  },
  "language_info": {
   "codemirror_mode": {
    "name": "ipython",
    "version": 3
   },
   "file_extension": ".py",
   "mimetype": "text/x-python",
   "name": "python",
   "nbconvert_exporter": "python",
   "pygments_lexer": "ipython3",
   "version": "3.7.12"
  }
 },
 "nbformat": 4,
 "nbformat_minor": 5
}
