{
 "cells": [
  {
   "cell_type": "code",
   "execution_count": 1,
   "id": "9e377e2b",
   "metadata": {},
   "outputs": [
    {
     "data": {
      "text/html": [
       "<div>\n",
       "<style scoped>\n",
       "    .dataframe tbody tr th:only-of-type {\n",
       "        vertical-align: middle;\n",
       "    }\n",
       "\n",
       "    .dataframe tbody tr th {\n",
       "        vertical-align: top;\n",
       "    }\n",
       "\n",
       "    .dataframe thead th {\n",
       "        text-align: right;\n",
       "    }\n",
       "</style>\n",
       "<table border=\"1\" class=\"dataframe\">\n",
       "  <thead>\n",
       "    <tr style=\"text-align: right;\">\n",
       "      <th></th>\n",
       "      <th>year</th>\n",
       "      <th>county</th>\n",
       "      <th>residential</th>\n",
       "      <th>service industry</th>\n",
       "      <th>public department</th>\n",
       "      <th>industry</th>\n",
       "      <th>other</th>\n",
       "    </tr>\n",
       "  </thead>\n",
       "  <tbody>\n",
       "    <tr>\n",
       "      <th>0</th>\n",
       "      <td>2021</td>\n",
       "      <td>新北市</td>\n",
       "      <td>41.88</td>\n",
       "      <td>26.38</td>\n",
       "      <td>2.85</td>\n",
       "      <td>28.77</td>\n",
       "      <td>0.12</td>\n",
       "    </tr>\n",
       "    <tr>\n",
       "      <th>1</th>\n",
       "      <td>2021</td>\n",
       "      <td>台北市</td>\n",
       "      <td>35.09</td>\n",
       "      <td>52.79</td>\n",
       "      <td>8.25</td>\n",
       "      <td>3.79</td>\n",
       "      <td>0.08</td>\n",
       "    </tr>\n",
       "    <tr>\n",
       "      <th>2</th>\n",
       "      <td>2021</td>\n",
       "      <td>桃園市</td>\n",
       "      <td>17.54</td>\n",
       "      <td>13.77</td>\n",
       "      <td>1.64</td>\n",
       "      <td>66.87</td>\n",
       "      <td>0.18</td>\n",
       "    </tr>\n",
       "    <tr>\n",
       "      <th>3</th>\n",
       "      <td>2021</td>\n",
       "      <td>台中市</td>\n",
       "      <td>18.70</td>\n",
       "      <td>15.44</td>\n",
       "      <td>1.94</td>\n",
       "      <td>63.44</td>\n",
       "      <td>0.48</td>\n",
       "    </tr>\n",
       "    <tr>\n",
       "      <th>4</th>\n",
       "      <td>2021</td>\n",
       "      <td>台南市</td>\n",
       "      <td>13.69</td>\n",
       "      <td>9.14</td>\n",
       "      <td>1.51</td>\n",
       "      <td>74.29</td>\n",
       "      <td>1.37</td>\n",
       "    </tr>\n",
       "  </tbody>\n",
       "</table>\n",
       "</div>"
      ],
      "text/plain": [
       "   year county  residential  service industry  public department  industry  \\\n",
       "0  2021    新北市        41.88             26.38               2.85     28.77   \n",
       "1  2021    台北市        35.09             52.79               8.25      3.79   \n",
       "2  2021    桃園市        17.54             13.77               1.64     66.87   \n",
       "3  2021    台中市        18.70             15.44               1.94     63.44   \n",
       "4  2021    台南市        13.69              9.14               1.51     74.29   \n",
       "\n",
       "   other  \n",
       "0   0.12  \n",
       "1   0.08  \n",
       "2   0.18  \n",
       "3   0.48  \n",
       "4   1.37  "
      ]
     },
     "execution_count": 1,
     "metadata": {},
     "output_type": "execute_result"
    }
   ],
   "source": [
    "import pandas as pd\n",
    "\n",
    "df = pd.read_csv('power_ratio.csv')\n",
    "df.head()"
   ]
  },
  {
   "cell_type": "code",
   "execution_count": 4,
   "id": "4911b5fc",
   "metadata": {},
   "outputs": [
    {
     "data": {
      "text/plain": [
       "2021    22\n",
       "2020    22\n",
       "2019    22\n",
       "2018    22\n",
       "Name: year, dtype: int64"
      ]
     },
     "execution_count": 4,
     "metadata": {},
     "output_type": "execute_result"
    }
   ],
   "source": [
    "df['year'].value_counts()"
   ]
  },
  {
   "cell_type": "code",
   "execution_count": 11,
   "id": "d189f5b5",
   "metadata": {},
   "outputs": [
    {
     "data": {
      "text/plain": [
       "Index(['year', 'county', 'residential', 'service industry',\n",
       "       'public department', 'industry', 'other'],\n",
       "      dtype='object')"
      ]
     },
     "execution_count": 11,
     "metadata": {},
     "output_type": "execute_result"
    }
   ],
   "source": [
    "df.columns"
   ]
  },
  {
   "cell_type": "code",
   "execution_count": 15,
   "id": "5372358f",
   "metadata": {},
   "outputs": [
    {
     "data": {
      "text/html": [
       "<div>\n",
       "<style scoped>\n",
       "    .dataframe tbody tr th:only-of-type {\n",
       "        vertical-align: middle;\n",
       "    }\n",
       "\n",
       "    .dataframe tbody tr th {\n",
       "        vertical-align: top;\n",
       "    }\n",
       "\n",
       "    .dataframe thead th {\n",
       "        text-align: right;\n",
       "    }\n",
       "</style>\n",
       "<table border=\"1\" class=\"dataframe\">\n",
       "  <thead>\n",
       "    <tr style=\"text-align: right;\">\n",
       "      <th></th>\n",
       "      <th>residential</th>\n",
       "      <th>service industry</th>\n",
       "      <th>public department</th>\n",
       "      <th>industry</th>\n",
       "      <th>other</th>\n",
       "    </tr>\n",
       "  </thead>\n",
       "  <tbody>\n",
       "    <tr>\n",
       "      <th>sum</th>\n",
       "      <td>28.97</td>\n",
       "      <td>23.146818</td>\n",
       "      <td>4.708182</td>\n",
       "      <td>40.797727</td>\n",
       "      <td>2.377273</td>\n",
       "    </tr>\n",
       "  </tbody>\n",
       "</table>\n",
       "</div>"
      ],
      "text/plain": [
       "     residential  service industry  public department   industry     other\n",
       "sum        28.97         23.146818           4.708182  40.797727  2.377273"
      ]
     },
     "execution_count": 15,
     "metadata": {},
     "output_type": "execute_result"
    }
   ],
   "source": [
    "county_num = df['county'].nunique()\n",
    "year_df = df.groupby('year')\n",
    "ratio_2021 = year_df.get_group(2021)\n",
    "ratio_2021[['residential', 'service industry', 'public department', 'industry', 'other']].agg(['sum']) / county_num"
   ]
  },
  {
   "cell_type": "code",
   "execution_count": 32,
   "id": "7ac123f4",
   "metadata": {},
   "outputs": [
    {
     "data": {
      "text/plain": [
       "<matplotlib.axes._subplots.AxesSubplot at 0x1e85ab13188>"
      ]
     },
     "execution_count": 32,
     "metadata": {},
     "output_type": "execute_result"
    },
    {
     "data": {
      "image/png": "[encoded data removed]",
      "text/plain": [
       "<Figure size 720x576 with 1 Axes>"
      ]
     },
     "metadata": {
      "needs_background": "light"
     },
     "output_type": "display_data"
    }
   ],
   "source": [
    "year_df = df.groupby('year')\n",
    "years = year_df.groups.keys()\n",
    "\n",
    "result_df = pd.DataFrame()\n",
    "\n",
    "for year in years:\n",
    "    ratio_df = year_df.get_group(year)\n",
    "    cur_df = ratio_df[['residential', 'service industry', 'public department', 'industry', 'other']].agg(['sum']) / county_num\n",
    "    cur_df = cur_df.reset_index(drop = True)\n",
    "    cur_df['year'] = year\n",
    "    result_df = pd.concat([result_df, cur_df])\n",
    "\n",
    "result_df['year'] = result_df['year'].astype(str)\n",
    "result_df.plot(x='year',  figsize=(10,8))"
   ]
  },
  {
   "cell_type": "code",
   "execution_count": 33,
   "id": "c114951e",
   "metadata": {},
   "outputs": [
    {
     "data": {
      "text/html": [
       "<div>\n",
       "<style scoped>\n",
       "    .dataframe tbody tr th:only-of-type {\n",
       "        vertical-align: middle;\n",
       "    }\n",
       "\n",
       "    .dataframe tbody tr th {\n",
       "        vertical-align: top;\n",
       "    }\n",
       "\n",
       "    .dataframe thead th {\n",
       "        text-align: right;\n",
       "    }\n",
       "</style>\n",
       "<table border=\"1\" class=\"dataframe\">\n",
       "  <thead>\n",
       "    <tr style=\"text-align: right;\">\n",
       "      <th></th>\n",
       "      <th>residential</th>\n",
       "      <th>service industry</th>\n",
       "      <th>public department</th>\n",
       "      <th>industry</th>\n",
       "      <th>other</th>\n",
       "      <th>year</th>\n",
       "    </tr>\n",
       "  </thead>\n",
       "  <tbody>\n",
       "    <tr>\n",
       "      <th>0</th>\n",
       "      <td>27.470909</td>\n",
       "      <td>25.045455</td>\n",
       "      <td>5.295909</td>\n",
       "      <td>39.931818</td>\n",
       "      <td>2.255909</td>\n",
       "      <td>2018</td>\n",
       "    </tr>\n",
       "    <tr>\n",
       "      <th>0</th>\n",
       "      <td>27.550455</td>\n",
       "      <td>25.056364</td>\n",
       "      <td>5.185000</td>\n",
       "      <td>39.874545</td>\n",
       "      <td>2.333636</td>\n",
       "      <td>2019</td>\n",
       "    </tr>\n",
       "    <tr>\n",
       "      <th>0</th>\n",
       "      <td>28.369545</td>\n",
       "      <td>24.244545</td>\n",
       "      <td>5.025000</td>\n",
       "      <td>39.929091</td>\n",
       "      <td>2.432273</td>\n",
       "      <td>2020</td>\n",
       "    </tr>\n",
       "    <tr>\n",
       "      <th>0</th>\n",
       "      <td>28.970000</td>\n",
       "      <td>23.146818</td>\n",
       "      <td>4.708182</td>\n",
       "      <td>40.797727</td>\n",
       "      <td>2.377273</td>\n",
       "      <td>2021</td>\n",
       "    </tr>\n",
       "  </tbody>\n",
       "</table>\n",
       "</div>"
      ],
      "text/plain": [
       "   residential  service industry  public department   industry     other  year\n",
       "0    27.470909         25.045455           5.295909  39.931818  2.255909  2018\n",
       "0    27.550455         25.056364           5.185000  39.874545  2.333636  2019\n",
       "0    28.369545         24.244545           5.025000  39.929091  2.432273  2020\n",
       "0    28.970000         23.146818           4.708182  40.797727  2.377273  2021"
      ]
     },
     "execution_count": 33,
     "metadata": {},
     "output_type": "execute_result"
    }
   ],
   "source": [
    "result_df"
   ]
  }
 ],
 "metadata": {
  "kernelspec": {
   "display_name": "Python 3 (ipykernel)",
   "language": "python",
   "name": "python3"
  },
  "language_info": {
   "codemirror_mode": {
    "name": "ipython",
    "version": 3
   },
   "file_extension": ".py",
   "mimetype": "text/x-python",
   "name": "python",
   "nbconvert_exporter": "python",
   "pygments_lexer": "ipython3",
   "version": "3.7.12"
  }
 },
 "nbformat": 4,
 "nbformat_minor": 5
}
